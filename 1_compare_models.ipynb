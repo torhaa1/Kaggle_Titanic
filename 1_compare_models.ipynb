{
 "cells": [
  {
   "cell_type": "markdown",
   "metadata": {},
   "source": [
    "# Titanic dataset - Binary classification\n",
    "\n",
    "The Titanic dataset present a binary classification problem, where the goal is to predict whether a passenger survived or not.   \n",
    "In this notebook, I will build a simple Random Forest model to predict the survival of passengers.\n",
    "\n",
    "Will import the data cleaned in the previous step, with the following features:\n",
    "\n",
    "| Variable | Definition                          | Value                        |\n",
    "|----------|-------------------------------------|----------------------------|\n",
    "| survival | Survival                            | 0=No, 1=Yes            |\n",
    "| pclass   | Ticket class                        | 1=1st, 2=2nd, 3=3rd  |\n",
    "| sex      | Sex                                 | 0=Female, 1=Male                           |\n",
    "| Age      | Age in years                        |                            |\n",
    "| sibsp    | # of siblings / spouses aboard the Titanic |                    |\n",
    "| parch    | # of parents / children aboard the Titanic |                    |\n",
    "| fare     | Passenger fare                      |                            |\n",
    "| cabin    | Cabin number                        | 0=NaN/Unidentified, 1=Yes/Valid Cabin nr                           |\n",
    "| embarked | Port of Embarkation                 | 0=Cherbourg, 1=Queenstown, 2=Southampton |"
   ]
  },
  {
   "cell_type": "code",
   "execution_count": 1,
   "metadata": {},
   "outputs": [],
   "source": [
    "# import libraries\n",
    "import numpy as np\n",
    "import pandas as pd\n",
    "import matplotlib.pyplot as plt\n",
    "import seaborn as sns\n",
    "\n",
    "pd.set_option('display.float_format', lambda x: '%.2f' % x)"
   ]
  },
  {
   "cell_type": "markdown",
   "metadata": {},
   "source": [
    "## Load and inspect data"
   ]
  },
  {
   "cell_type": "code",
   "execution_count": 2,
   "metadata": {},
   "outputs": [
    {
     "name": "stdout",
     "output_type": "stream",
     "text": [
      "Train dataset shape (rows, columns): (891, 18)\n",
      "Test dataset shape (rows, columns): (418, 17)\n"
     ]
    },
    {
     "data": {
      "text/html": [
       "<div>\n",
       "<style scoped>\n",
       "    .dataframe tbody tr th:only-of-type {\n",
       "        vertical-align: middle;\n",
       "    }\n",
       "\n",
       "    .dataframe tbody tr th {\n",
       "        vertical-align: top;\n",
       "    }\n",
       "\n",
       "    .dataframe thead th {\n",
       "        text-align: right;\n",
       "    }\n",
       "</style>\n",
       "<table border=\"1\" class=\"dataframe\">\n",
       "  <thead>\n",
       "    <tr style=\"text-align: right;\">\n",
       "      <th></th>\n",
       "      <th>PassengerId</th>\n",
       "      <th>Survived</th>\n",
       "      <th>Pclass_2</th>\n",
       "      <th>Pclass_3</th>\n",
       "      <th>Sex_1</th>\n",
       "      <th>SibSp_1</th>\n",
       "      <th>SibSp_2</th>\n",
       "      <th>SibSp_3</th>\n",
       "      <th>SibSp_4</th>\n",
       "      <th>SibSp_5</th>\n",
       "      <th>SibSp_8</th>\n",
       "      <th>Parch_1</th>\n",
       "      <th>Parch_2</th>\n",
       "      <th>Parch_3</th>\n",
       "      <th>Parch_4</th>\n",
       "      <th>Parch_5</th>\n",
       "      <th>Parch_6</th>\n",
       "      <th>Parch_9</th>\n",
       "    </tr>\n",
       "  </thead>\n",
       "  <tbody>\n",
       "    <tr>\n",
       "      <th>0</th>\n",
       "      <td>1</td>\n",
       "      <td>0</td>\n",
       "      <td>False</td>\n",
       "      <td>True</td>\n",
       "      <td>True</td>\n",
       "      <td>True</td>\n",
       "      <td>False</td>\n",
       "      <td>False</td>\n",
       "      <td>False</td>\n",
       "      <td>False</td>\n",
       "      <td>False</td>\n",
       "      <td>False</td>\n",
       "      <td>False</td>\n",
       "      <td>False</td>\n",
       "      <td>False</td>\n",
       "      <td>False</td>\n",
       "      <td>False</td>\n",
       "      <td>False</td>\n",
       "    </tr>\n",
       "    <tr>\n",
       "      <th>1</th>\n",
       "      <td>2</td>\n",
       "      <td>1</td>\n",
       "      <td>False</td>\n",
       "      <td>False</td>\n",
       "      <td>False</td>\n",
       "      <td>True</td>\n",
       "      <td>False</td>\n",
       "      <td>False</td>\n",
       "      <td>False</td>\n",
       "      <td>False</td>\n",
       "      <td>False</td>\n",
       "      <td>False</td>\n",
       "      <td>False</td>\n",
       "      <td>False</td>\n",
       "      <td>False</td>\n",
       "      <td>False</td>\n",
       "      <td>False</td>\n",
       "      <td>False</td>\n",
       "    </tr>\n",
       "    <tr>\n",
       "      <th>2</th>\n",
       "      <td>3</td>\n",
       "      <td>1</td>\n",
       "      <td>False</td>\n",
       "      <td>True</td>\n",
       "      <td>False</td>\n",
       "      <td>False</td>\n",
       "      <td>False</td>\n",
       "      <td>False</td>\n",
       "      <td>False</td>\n",
       "      <td>False</td>\n",
       "      <td>False</td>\n",
       "      <td>False</td>\n",
       "      <td>False</td>\n",
       "      <td>False</td>\n",
       "      <td>False</td>\n",
       "      <td>False</td>\n",
       "      <td>False</td>\n",
       "      <td>False</td>\n",
       "    </tr>\n",
       "  </tbody>\n",
       "</table>\n",
       "</div>"
      ],
      "text/plain": [
       "   PassengerId  Survived  Pclass_2  Pclass_3  Sex_1  SibSp_1  SibSp_2  \\\n",
       "0            1         0     False      True   True     True    False   \n",
       "1            2         1     False     False  False     True    False   \n",
       "2            3         1     False      True  False    False    False   \n",
       "\n",
       "   SibSp_3  SibSp_4  SibSp_5  SibSp_8  Parch_1  Parch_2  Parch_3  Parch_4  \\\n",
       "0    False    False    False    False    False    False    False    False   \n",
       "1    False    False    False    False    False    False    False    False   \n",
       "2    False    False    False    False    False    False    False    False   \n",
       "\n",
       "   Parch_5  Parch_6  Parch_9  \n",
       "0    False    False    False  \n",
       "1    False    False    False  \n",
       "2    False    False    False  "
      ]
     },
     "execution_count": 2,
     "metadata": {},
     "output_type": "execute_result"
    }
   ],
   "source": [
    "# load cleaned data\n",
    "train_data = pd.read_csv('data/train_clean_subsetFeatures.csv')\n",
    "test_data = pd.read_csv('data/test_clean_subsetFeatures.csv')\n",
    "\n",
    "# print the shape of the data\n",
    "print('Train dataset shape (rows, columns):', train_data.shape)\n",
    "print('Test dataset shape (rows, columns):', test_data.shape)\n",
    "\n",
    "train_data.head(3)"
   ]
  },
  {
   "cell_type": "code",
   "execution_count": 3,
   "metadata": {},
   "outputs": [
    {
     "data": {
      "text/html": [
       "<div>\n",
       "<style scoped>\n",
       "    .dataframe tbody tr th:only-of-type {\n",
       "        vertical-align: middle;\n",
       "    }\n",
       "\n",
       "    .dataframe tbody tr th {\n",
       "        vertical-align: top;\n",
       "    }\n",
       "\n",
       "    .dataframe thead th {\n",
       "        text-align: right;\n",
       "    }\n",
       "</style>\n",
       "<table border=\"1\" class=\"dataframe\">\n",
       "  <thead>\n",
       "    <tr style=\"text-align: right;\">\n",
       "      <th></th>\n",
       "      <th>PassengerId</th>\n",
       "      <th>Pclass_2</th>\n",
       "      <th>Pclass_3</th>\n",
       "      <th>Sex_1</th>\n",
       "      <th>SibSp_1</th>\n",
       "      <th>SibSp_2</th>\n",
       "      <th>SibSp_3</th>\n",
       "      <th>SibSp_4</th>\n",
       "      <th>SibSp_5</th>\n",
       "      <th>SibSp_8</th>\n",
       "      <th>Parch_1</th>\n",
       "      <th>Parch_2</th>\n",
       "      <th>Parch_3</th>\n",
       "      <th>Parch_4</th>\n",
       "      <th>Parch_5</th>\n",
       "      <th>Parch_6</th>\n",
       "      <th>Parch_9</th>\n",
       "    </tr>\n",
       "  </thead>\n",
       "  <tbody>\n",
       "    <tr>\n",
       "      <th>0</th>\n",
       "      <td>892</td>\n",
       "      <td>False</td>\n",
       "      <td>True</td>\n",
       "      <td>True</td>\n",
       "      <td>False</td>\n",
       "      <td>False</td>\n",
       "      <td>False</td>\n",
       "      <td>False</td>\n",
       "      <td>False</td>\n",
       "      <td>False</td>\n",
       "      <td>False</td>\n",
       "      <td>False</td>\n",
       "      <td>False</td>\n",
       "      <td>False</td>\n",
       "      <td>False</td>\n",
       "      <td>False</td>\n",
       "      <td>False</td>\n",
       "    </tr>\n",
       "    <tr>\n",
       "      <th>1</th>\n",
       "      <td>893</td>\n",
       "      <td>False</td>\n",
       "      <td>True</td>\n",
       "      <td>False</td>\n",
       "      <td>True</td>\n",
       "      <td>False</td>\n",
       "      <td>False</td>\n",
       "      <td>False</td>\n",
       "      <td>False</td>\n",
       "      <td>False</td>\n",
       "      <td>False</td>\n",
       "      <td>False</td>\n",
       "      <td>False</td>\n",
       "      <td>False</td>\n",
       "      <td>False</td>\n",
       "      <td>False</td>\n",
       "      <td>False</td>\n",
       "    </tr>\n",
       "    <tr>\n",
       "      <th>2</th>\n",
       "      <td>894</td>\n",
       "      <td>True</td>\n",
       "      <td>False</td>\n",
       "      <td>True</td>\n",
       "      <td>False</td>\n",
       "      <td>False</td>\n",
       "      <td>False</td>\n",
       "      <td>False</td>\n",
       "      <td>False</td>\n",
       "      <td>False</td>\n",
       "      <td>False</td>\n",
       "      <td>False</td>\n",
       "      <td>False</td>\n",
       "      <td>False</td>\n",
       "      <td>False</td>\n",
       "      <td>False</td>\n",
       "      <td>False</td>\n",
       "    </tr>\n",
       "  </tbody>\n",
       "</table>\n",
       "</div>"
      ],
      "text/plain": [
       "   PassengerId  Pclass_2  Pclass_3  Sex_1  SibSp_1  SibSp_2  SibSp_3  SibSp_4  \\\n",
       "0          892     False      True   True    False    False    False    False   \n",
       "1          893     False      True  False     True    False    False    False   \n",
       "2          894      True     False   True    False    False    False    False   \n",
       "\n",
       "   SibSp_5  SibSp_8  Parch_1  Parch_2  Parch_3  Parch_4  Parch_5  Parch_6  \\\n",
       "0    False    False    False    False    False    False    False    False   \n",
       "1    False    False    False    False    False    False    False    False   \n",
       "2    False    False    False    False    False    False    False    False   \n",
       "\n",
       "   Parch_9  \n",
       "0    False  \n",
       "1    False  \n",
       "2    False  "
      ]
     },
     "execution_count": 3,
     "metadata": {},
     "output_type": "execute_result"
    }
   ],
   "source": [
    "test_data.head(3)"
   ]
  },
  {
   "cell_type": "markdown",
   "metadata": {},
   "source": [
    "## Define models\n",
    "\n",
    "1) Logistic Regression\n",
    "2) Random Forest (subset of features)\n",
    "3) Random Forest (all features)\n",
    "4) Support Vector Machine (SVM)\n",
    "5) Xtreme Gradient Boosting (XGBoost)"
   ]
  },
  {
   "cell_type": "code",
   "execution_count": 4,
   "metadata": {},
   "outputs": [],
   "source": [
    "from sklearn.linear_model import LogisticRegression\n",
    "from sklearn.ensemble import RandomForestClassifier\n",
    "from sklearn.svm import SVC\n",
    "from xgboost import XGBClassifier\n",
    "from sklearn.model_selection import cross_val_score"
   ]
  },
  {
   "cell_type": "code",
   "execution_count": 5,
   "metadata": {},
   "outputs": [
    {
     "data": {
      "text/html": [
       "<div>\n",
       "<style scoped>\n",
       "    .dataframe tbody tr th:only-of-type {\n",
       "        vertical-align: middle;\n",
       "    }\n",
       "\n",
       "    .dataframe tbody tr th {\n",
       "        vertical-align: top;\n",
       "    }\n",
       "\n",
       "    .dataframe thead th {\n",
       "        text-align: right;\n",
       "    }\n",
       "</style>\n",
       "<table border=\"1\" class=\"dataframe\">\n",
       "  <thead>\n",
       "    <tr style=\"text-align: right;\">\n",
       "      <th></th>\n",
       "      <th>PassengerId</th>\n",
       "      <th>Age</th>\n",
       "      <th>Fare</th>\n",
       "      <th>SibSp</th>\n",
       "      <th>Parch</th>\n",
       "      <th>Pclass_2</th>\n",
       "      <th>Pclass_3</th>\n",
       "      <th>Sex_1</th>\n",
       "      <th>Cabin_1</th>\n",
       "      <th>Embarked_1</th>\n",
       "      <th>Embarked_2</th>\n",
       "    </tr>\n",
       "  </thead>\n",
       "  <tbody>\n",
       "    <tr>\n",
       "      <th>0</th>\n",
       "      <td>1</td>\n",
       "      <td>-0.58</td>\n",
       "      <td>-0.50</td>\n",
       "      <td>0.48</td>\n",
       "      <td>-0.44</td>\n",
       "      <td>False</td>\n",
       "      <td>True</td>\n",
       "      <td>True</td>\n",
       "      <td>False</td>\n",
       "      <td>False</td>\n",
       "      <td>True</td>\n",
       "    </tr>\n",
       "    <tr>\n",
       "      <th>1</th>\n",
       "      <td>2</td>\n",
       "      <td>0.66</td>\n",
       "      <td>0.73</td>\n",
       "      <td>0.48</td>\n",
       "      <td>-0.44</td>\n",
       "      <td>False</td>\n",
       "      <td>False</td>\n",
       "      <td>False</td>\n",
       "      <td>True</td>\n",
       "      <td>False</td>\n",
       "      <td>False</td>\n",
       "    </tr>\n",
       "    <tr>\n",
       "      <th>2</th>\n",
       "      <td>3</td>\n",
       "      <td>-0.27</td>\n",
       "      <td>-0.49</td>\n",
       "      <td>-0.48</td>\n",
       "      <td>-0.44</td>\n",
       "      <td>False</td>\n",
       "      <td>True</td>\n",
       "      <td>False</td>\n",
       "      <td>False</td>\n",
       "      <td>False</td>\n",
       "      <td>True</td>\n",
       "    </tr>\n",
       "  </tbody>\n",
       "</table>\n",
       "</div>"
      ],
      "text/plain": [
       "   PassengerId   Age  Fare  SibSp  Parch  Pclass_2  Pclass_3  Sex_1  Cabin_1  \\\n",
       "0            1 -0.58 -0.50   0.48  -0.44     False      True   True    False   \n",
       "1            2  0.66  0.73   0.48  -0.44     False     False  False     True   \n",
       "2            3 -0.27 -0.49  -0.48  -0.44     False      True  False    False   \n",
       "\n",
       "   Embarked_1  Embarked_2  \n",
       "0       False        True  \n",
       "1       False       False  \n",
       "2       False        True  "
      ]
     },
     "execution_count": 5,
     "metadata": {},
     "output_type": "execute_result"
    }
   ],
   "source": [
    "# load cleaned data\n",
    "train_data = pd.read_csv('data/train_clean_allFeatures.csv')\n",
    "test_data = pd.read_csv('data/test_clean_allFeatures.csv')\n",
    "\n",
    "y = train_data[\"Survived\"] # target variable\n",
    "\n",
    "X = train_data.drop(\"Survived\", axis=1)\n",
    "X_test = test_data\n",
    "X.head(3)"
   ]
  },
  {
   "cell_type": "code",
   "execution_count": 6,
   "metadata": {},
   "outputs": [
    {
     "name": "stdout",
     "output_type": "stream",
     "text": [
      "Cross-Validation Accuracy: [0.81005587 0.79213483 0.78651685 0.79213483 0.83146067] | Mean value: 0.802\n",
      "Cross-Validation F1:       [0.74626866 0.72180451 0.72058824 0.69918699 0.7761194 ] | Mean value: 0.733\n"
     ]
    }
   ],
   "source": [
    "# Logistic Regression model\n",
    "lr = LogisticRegression(max_iter = 2000, random_state=1)\n",
    "cv_accuracy = cross_val_score(lr, X, y, cv=5, scoring='accuracy')\n",
    "cv_f1 = cross_val_score(lr, X, y, cv=5, scoring='f1')\n",
    "\n",
    "print(f'Cross-Validation Accuracy: {cv_accuracy} | Mean value: {round(cv_accuracy.mean(),3)}')\n",
    "print(f'Cross-Validation F1:       {cv_f1} | Mean value: {round(cv_f1.mean(),3)}')"
   ]
  },
  {
   "cell_type": "code",
   "execution_count": 7,
   "metadata": {},
   "outputs": [
    {
     "name": "stdout",
     "output_type": "stream",
     "text": [
      "Cross-Validation Accuracy: [0.6424581  0.80898876 0.80337079 0.7752809  0.80337079] | Mean value: 0.767\n",
      "Cross-Validation F1:       [0.13513514 0.74242424 0.72       0.60784314 0.6728972 ] | Mean value: 0.576\n"
     ]
    }
   ],
   "source": [
    "# Random Forest model - subset of features\n",
    "train_data = pd.read_csv('data/train_clean_subsetFeatures.csv')\n",
    "test_data = pd.read_csv('data/test_clean_subsetFeatures.csv')\n",
    "\n",
    "y = train_data[\"Survived\"] # target variable\n",
    "X = train_data.drop(\"Survived\", axis=1)\n",
    "X_test = test_data\n",
    "\n",
    "rf_subset = RandomForestClassifier(n_estimators=100, max_depth=5, random_state=1)\n",
    "cv_accuracy = cross_val_score(rf_subset, X, y, cv=5, scoring='accuracy')\n",
    "cv_f1 = cross_val_score(rf_subset, X, y, cv=5, scoring='f1')\n",
    "\n",
    "print(f'Cross-Validation Accuracy: {cv_accuracy} | Mean value: {round(cv_accuracy.mean(),3)}')\n",
    "print(f'Cross-Validation F1:       {cv_f1} | Mean value: {round(cv_f1.mean(),3)}')"
   ]
  },
  {
   "cell_type": "code",
   "execution_count": 9,
   "metadata": {},
   "outputs": [],
   "source": [
    "# load cleaned data - back to using all features\n",
    "train_data = pd.read_csv('data/train_clean_allFeatures.csv')\n",
    "test_data = pd.read_csv('data/test_clean_allFeatures.csv')\n",
    "\n",
    "y = train_data[\"Survived\"] # target variable\n",
    "X = train_data.drop(\"Survived\", axis=1)\n",
    "X_test = test_data"
   ]
  },
  {
   "cell_type": "code",
   "execution_count": 10,
   "metadata": {},
   "outputs": [
    {
     "name": "stdout",
     "output_type": "stream",
     "text": [
      "Cross-Validation Accuracy: [0.74301676 0.79213483 0.87078652 0.79213483 0.83146067] | Mean value: 0.806\n",
      "Cross-Validation F1:       [0.55769231 0.71755725 0.82442748 0.69421488 0.765625  ] | Mean value: 0.712\n"
     ]
    }
   ],
   "source": [
    "# Random Forest model - all features\n",
    "rf = RandomForestClassifier(n_estimators=150, max_depth=10, random_state=1)\n",
    "cv_accuracy = cross_val_score(rf, X, y, cv=5, scoring='accuracy')\n",
    "cv_f1 = cross_val_score(rf, X, y, cv=5, scoring='f1')\n",
    "\n",
    "print(f'Cross-Validation Accuracy: {cv_accuracy} | Mean value: {round(cv_accuracy.mean(),3)}')\n",
    "print(f'Cross-Validation F1:       {cv_f1} | Mean value: {round(cv_f1.mean(),3)}')"
   ]
  },
  {
   "cell_type": "code",
   "execution_count": 11,
   "metadata": {},
   "outputs": [
    {
     "name": "stdout",
     "output_type": "stream",
     "text": [
      "Cross-Validation Accuracy: [0.61452514 0.61797753 0.61797753 0.61797753 0.61235955] | Mean value: 0.616\n",
      "Cross-Validation F1:       [0. 0. 0. 0. 0.] | Mean value: 0.0\n"
     ]
    }
   ],
   "source": [
    "# Support Vector Classifier (SVC) model\n",
    "svc = SVC(probability = True)\n",
    "cv_accuracy = cross_val_score(svc, X, y, cv=5, scoring='accuracy')\n",
    "cv_f1 = cross_val_score(svc, X, y, cv=5, scoring='f1')\n",
    "\n",
    "print(f'Cross-Validation Accuracy: {cv_accuracy} | Mean value: {round(cv_accuracy.mean(),3)}')\n",
    "print(f'Cross-Validation F1:       {cv_f1} | Mean value: {round(cv_f1.mean(),3)}')"
   ]
  },
  {
   "cell_type": "code",
   "execution_count": 12,
   "metadata": {},
   "outputs": [
    {
     "name": "stdout",
     "output_type": "stream",
     "text": [
      "Cross-Validation Accuracy: [0.66480447 0.80898876 0.83707865 0.79213483 0.84269663] | Mean value: 0.789\n",
      "Cross-Validation F1:       [0.25       0.74626866 0.78195489 0.74125874 0.78787879] | Mean value: 0.661\n"
     ]
    }
   ],
   "source": [
    "# Xtreme Gradient Boosting (XGBoost) model\n",
    "xgb = XGBClassifier(random_state =1)\n",
    "cv_accuracy = cross_val_score(xgb, X, y, cv=5, scoring='accuracy')\n",
    "cv_f1 = cross_val_score(xgb, X, y, cv=5, scoring='f1')\n",
    "\n",
    "print(f'Cross-Validation Accuracy: {cv_accuracy} | Mean value: {round(cv_accuracy.mean(),3)}')\n",
    "print(f'Cross-Validation F1:       {cv_f1} | Mean value: {round(cv_f1.mean(),3)}')"
   ]
  },
  {
   "cell_type": "markdown",
   "metadata": {},
   "source": [
    "### Baseline Model Performance\n",
    "\n",
    "| Model       | Accuracy | F1-score    |\n",
    "|-------------|----------|-------------|\n",
    "| Logistic Regression  | 80.2     | 73.3        |\n",
    "| Random Forest subset | 76.7     | 57.6        |\n",
    "| Random Forest all    | 80.6     | 71.2        |\n",
    "| SVM                  | 61.6     | nan         |\n",
    "| XGBoost              | 78.9     | 66.1        |\n"
   ]
  },
  {
   "cell_type": "markdown",
   "metadata": {},
   "source": [
    "## Parameter tuning\n",
    "Use GridSearchCV to find the best parameters for the models, while RandomizedSearchCV for Random Forest and XG Boost mopdels to reduce the computational time.\n"
   ]
  },
  {
   "cell_type": "code",
   "execution_count": 13,
   "metadata": {},
   "outputs": [],
   "source": [
    "from sklearn.model_selection import GridSearchCV \n",
    "from sklearn.model_selection import RandomizedSearchCV "
   ]
  },
  {
   "cell_type": "code",
   "execution_count": 14,
   "metadata": {},
   "outputs": [],
   "source": [
    "# report stats for each model\n",
    "def clf_performance(classifier, model_name):\n",
    "    print(model_name)\n",
    "    print('Best Score: ' + str(classifier.best_score_))\n",
    "    print('Best Parameters: ' + str(classifier.best_params_))"
   ]
  },
  {
   "cell_type": "code",
   "execution_count": 15,
   "metadata": {},
   "outputs": [
    {
     "name": "stdout",
     "output_type": "stream",
     "text": [
      "Fitting 5 folds for each of 40 candidates, totalling 200 fits\n",
      "Logistic Regression\n",
      "Best Score: 0.8047015253279769\n",
      "Best Parameters: {'C': 0.615848211066026, 'max_iter': 2000, 'penalty': 'l2', 'solver': 'liblinear'}\n"
     ]
    }
   ],
   "source": [
    "# Logistic Regression model - hyperparameter tuning\n",
    "lr = LogisticRegression(random_state = 1)\n",
    "param_grid = {'max_iter': [2000],\n",
    "                'C': np.logspace(-4, 4, 20),\n",
    "                'penalty': ['l1', 'l2'],\n",
    "                'solver': ['liblinear']}\n",
    "# Create grid search using 5-fold cross validation\n",
    "clf_lr = GridSearchCV(lr, param_grid=param_grid, cv=5, verbose=True, n_jobs=-1) # n_jobs=-1 means all processors\n",
    "best_clf_lr = clf_lr.fit(X, y)\n",
    "clf_performance(best_clf_lr,'Logistic Regression')"
   ]
  },
  {
   "cell_type": "code",
   "execution_count": 16,
   "metadata": {},
   "outputs": [
    {
     "name": "stdout",
     "output_type": "stream",
     "text": [
      "Fitting 5 folds for each of 100 candidates, totalling 500 fits\n",
      "Random Forest\n",
      "Best Score: 0.8294143493817087\n",
      "Best Parameters: {'n_estimators': 100, 'min_samples_split': 5, 'min_samples_leaf': 2, 'max_features': 'sqrt', 'max_depth': 20, 'bootstrap': True}\n"
     ]
    },
    {
     "name": "stderr",
     "output_type": "stream",
     "text": [
      "c:\\ProgramData\\miniconda3\\envs\\kaggle_ML_env\\Lib\\site-packages\\sklearn\\model_selection\\_validation.py:547: FitFailedWarning: \n",
      "240 fits failed out of a total of 500.\n",
      "The score on these train-test partitions for these parameters will be set to nan.\n",
      "If these failures are not expected, you can try to debug them by setting error_score='raise'.\n",
      "\n",
      "Below are more details about the failures:\n",
      "--------------------------------------------------------------------------------\n",
      "229 fits failed with the following error:\n",
      "Traceback (most recent call last):\n",
      "  File \"c:\\ProgramData\\miniconda3\\envs\\kaggle_ML_env\\Lib\\site-packages\\sklearn\\model_selection\\_validation.py\", line 895, in _fit_and_score\n",
      "    estimator.fit(X_train, y_train, **fit_params)\n",
      "  File \"c:\\ProgramData\\miniconda3\\envs\\kaggle_ML_env\\Lib\\site-packages\\sklearn\\base.py\", line 1467, in wrapper\n",
      "    estimator._validate_params()\n",
      "  File \"c:\\ProgramData\\miniconda3\\envs\\kaggle_ML_env\\Lib\\site-packages\\sklearn\\base.py\", line 666, in _validate_params\n",
      "    validate_parameter_constraints(\n",
      "  File \"c:\\ProgramData\\miniconda3\\envs\\kaggle_ML_env\\Lib\\site-packages\\sklearn\\utils\\_param_validation.py\", line 95, in validate_parameter_constraints\n",
      "    raise InvalidParameterError(\n",
      "sklearn.utils._param_validation.InvalidParameterError: The 'max_features' parameter of RandomForestClassifier must be an int in the range [1, inf), a float in the range (0.0, 1.0], a str among {'log2', 'sqrt'} or None. Got 'auto' instead.\n",
      "\n",
      "--------------------------------------------------------------------------------\n",
      "11 fits failed with the following error:\n",
      "Traceback (most recent call last):\n",
      "  File \"c:\\ProgramData\\miniconda3\\envs\\kaggle_ML_env\\Lib\\site-packages\\sklearn\\model_selection\\_validation.py\", line 895, in _fit_and_score\n",
      "    estimator.fit(X_train, y_train, **fit_params)\n",
      "  File \"c:\\ProgramData\\miniconda3\\envs\\kaggle_ML_env\\Lib\\site-packages\\sklearn\\base.py\", line 1467, in wrapper\n",
      "    estimator._validate_params()\n",
      "  File \"c:\\ProgramData\\miniconda3\\envs\\kaggle_ML_env\\Lib\\site-packages\\sklearn\\base.py\", line 666, in _validate_params\n",
      "    validate_parameter_constraints(\n",
      "  File \"c:\\ProgramData\\miniconda3\\envs\\kaggle_ML_env\\Lib\\site-packages\\sklearn\\utils\\_param_validation.py\", line 95, in validate_parameter_constraints\n",
      "    raise InvalidParameterError(\n",
      "sklearn.utils._param_validation.InvalidParameterError: The 'max_features' parameter of RandomForestClassifier must be an int in the range [1, inf), a float in the range (0.0, 1.0], a str among {'sqrt', 'log2'} or None. Got 'auto' instead.\n",
      "\n",
      "  warnings.warn(some_fits_failed_message, FitFailedWarning)\n",
      "c:\\ProgramData\\miniconda3\\envs\\kaggle_ML_env\\Lib\\site-packages\\sklearn\\model_selection\\_search.py:1051: UserWarning: One or more of the test scores are non-finite: [0.8148641  0.82603101 0.82379009        nan 0.79698073 0.82041303\n",
      "        nan 0.82380893        nan 0.82380893 0.80925868        nan\n",
      " 0.80593183        nan        nan 0.80590672 0.82379637 0.8115247\n",
      "        nan        nan        nan 0.79137531 0.82716088 0.8148641\n",
      "        nan        nan 0.80254849 0.80704287 0.81149959        nan\n",
      "        nan        nan        nan 0.82379009 0.82153663 0.82603101\n",
      " 0.80480824        nan 0.82490741        nan        nan 0.80252338\n",
      "        nan        nan        nan 0.8092524  0.80925868        nan\n",
      " 0.82269788        nan        nan 0.81816584        nan 0.82156173\n",
      " 0.82043186 0.80258615        nan        nan 0.82379637 0.79810432\n",
      "        nan        nan 0.80482079        nan        nan        nan\n",
      " 0.82153035 0.80254849        nan        nan        nan        nan\n",
      "        nan 0.82941435        nan        nan        nan        nan\n",
      " 0.80925868 0.78914695        nan 0.82379637 0.82380893        nan\n",
      " 0.82380265 0.82490741 0.79696818        nan 0.81818467 0.82379009\n",
      " 0.82269788        nan        nan 0.79696818 0.81816584 0.82492624\n",
      "        nan 0.80701149        nan 0.82041303]\n",
      "  warnings.warn(\n"
     ]
    }
   ],
   "source": [
    "# Random Forest model - hyperparameter tuning\n",
    "# Because of the large potential search space, we 1) use RandomizedSearchCV to narrow down the search space\n",
    "# and 2) use GridSearchCV on the smaller search space to find the best parameters\n",
    "\n",
    "# 1) RandomizedSearchCV - to narrow down search space\n",
    "rf = RandomForestClassifier(random_state = 1)\n",
    "param_grid =  {'n_estimators': [100,500,1000], \n",
    "                'bootstrap': [True,False],\n",
    "                'max_depth': [3,5,10,20,50,75,100,None],\n",
    "                'max_features': ['auto','sqrt'],\n",
    "                'min_samples_leaf': [1,2,4,10],\n",
    "                'min_samples_split': [2,5,10]}\n",
    "\n",
    "clf_rf_rnd = RandomizedSearchCV(rf, param_distributions=param_grid, n_iter=100, cv=5, verbose=True, n_jobs=-1)\n",
    "best_rf_rnd = clf_rf_rnd.fit(X, y)\n",
    "clf_performance(best_rf_rnd,'Random Forest')"
   ]
  },
  {
   "cell_type": "code",
   "execution_count": 17,
   "metadata": {},
   "outputs": [
    {
     "name": "stdout",
     "output_type": "stream",
     "text": [
      "Fitting 5 folds for each of 54 candidates, totalling 270 fits\n",
      "Random Forest\n",
      "Best Score: 0.831648986253217\n",
      "Best Parameters: {'bootstrap': True, 'max_depth': 5, 'max_features': 'sqrt', 'min_samples_leaf': 3, 'min_samples_split': 2, 'n_estimators': 400}\n"
     ]
    }
   ],
   "source": [
    "# Random Forest model\n",
    "# 2) GridSearchCV on smaller search space\n",
    "param_grid =  {'n_estimators': [400, 425],\n",
    "                'bootstrap': [True],\n",
    "                'max_depth': [4,5,6],\n",
    "                'max_features': ['sqrt'],\n",
    "                'min_samples_leaf': [2,3,4],\n",
    "                'min_samples_split': [2,3,4]}\n",
    "clf_rf = GridSearchCV(rf, param_grid=param_grid, cv=5, verbose=True, n_jobs=-1)\n",
    "best_clf_rf = clf_rf.fit(X, y)\n",
    "clf_performance(best_clf_rf,'Random Forest')"
   ]
  },
  {
   "cell_type": "code",
   "execution_count": 18,
   "metadata": {},
   "outputs": [
    {
     "name": "stdout",
     "output_type": "stream",
     "text": [
      "Fitting 5 folds for each of 1 candidates, totalling 5 fits\n",
      "SVC\n",
      "Best Score: 0.7262507061703596\n",
      "Best Parameters: {'C': 10000.0, 'degree': 2, 'kernel': 'poly'}\n"
     ]
    }
   ],
   "source": [
    "# Support Vector Classifier (SVC) model - hyperparameter tuning\n",
    "svc = SVC(probability = True)\n",
    "param_grid = tuned_parameters = [\n",
    "   #  {'kernel': ['rbf'], 'gamma': [0.0001, 0.1], 'C': [1e-06, 0.001, 0.1]},\n",
    "   #  {'kernel': ['linear'], 'C': [1]}\n",
    "    {'kernel': ['poly'], 'degree':[2], 'C': [1e04]}\n",
    "]\n",
    "\n",
    "clf_svc = GridSearchCV(svc, param_grid=param_grid, cv=5, verbose=True, n_jobs=-1)\n",
    "best_clf_svc = clf_svc.fit(X, y)\n",
    "clf_performance(best_clf_svc,'SVC')"
   ]
  },
  {
   "cell_type": "code",
   "execution_count": 19,
   "metadata": {},
   "outputs": [
    {
     "name": "stdout",
     "output_type": "stream",
     "text": [
      "Fitting 4 folds for each of 1000 candidates, totalling 4000 fits\n",
      "XGB\n",
      "Best Score: 0.8283187896416596\n",
      "Best Parameters: {'subsample': 0.7, 'reg_lambda': 2, 'reg_alpha': 0, 'n_estimators': 25, 'min_child_weight': 3, 'max_depth': 12, 'learning_rate': 0.1, 'gamma': 0.6, 'colsample_bytree': 0.6}\n"
     ]
    }
   ],
   "source": [
    "# XGBoost model - hyperparameter tuning\n",
    "\n",
    "# 1) RandomizedSearchCV - to narrow down search space\n",
    "xgb = XGBClassifier(random_state = 1)\n",
    "param_grid = {\n",
    "    'n_estimators': [15, 20, 25],\n",
    "    'colsample_bytree': [0.6, 0.7],\n",
    "    'max_depth': [12, 15, 18],\n",
    "    'reg_alpha': [0, 0.1],\n",
    "    'reg_lambda': [1.8, 2, 2.2],\n",
    "    'subsample': [0.7, 0.9],\n",
    "    'learning_rate':[.1, 0.3],\n",
    "    'gamma':[0.6, 0.9],\n",
    "    'min_child_weight':[2, 3, 4],\n",
    "    # 'sampling_method': ['uniform']\n",
    "}\n",
    "clf_xgb_rnd = RandomizedSearchCV(xgb, param_distributions = param_grid, n_iter = 1000, cv = 4, verbose = True, n_jobs = -1)\n",
    "best_clf_xgb_rnd = clf_xgb_rnd.fit(X,y)\n",
    "clf_performance(best_clf_xgb_rnd,'XGB')"
   ]
  },
  {
   "cell_type": "code",
   "execution_count": 22,
   "metadata": {},
   "outputs": [
    {
     "name": "stdout",
     "output_type": "stream",
     "text": [
      "Fitting 4 folds for each of 13122 candidates, totalling 52488 fits\n",
      "XGB\n",
      "Best Score: 0.8406556780996244\n",
      "Best Parameters: {'colsample_bytree': 0.6, 'gamma': 0.5, 'learning_rate': 0.3, 'max_depth': 10, 'min_child_weight': 4, 'n_estimators': 22, 'reg_alpha': 0, 'reg_lambda': 2.0, 'sampling_method': 'uniform', 'subsample': 0.8}\n"
     ]
    }
   ],
   "source": [
    "# XGBoost model - hyperparameter tuning\n",
    "\n",
    "# 2) GridSearchCV on smaller search space\n",
    "xgb = XGBClassifier(random_state = 1)\n",
    "\n",
    "param_grid = {\n",
    "    'n_estimators': [20, 22, 25],\n",
    "    'colsample_bytree': [0.5, 0.6, 0.65],\n",
    "    'max_depth': [10, 11, 13],\n",
    "    'reg_alpha': [0, 0.01],\n",
    "    'reg_lambda': [1.8, 2.0, 2.3],\n",
    "    'subsample': [0.70, 0.8, 0.90],\n",
    "    'learning_rate':[0.25, 0.3, 0.35],\n",
    "    'gamma':[0.3, 0.4, 0.5],\n",
    "    'min_child_weight':[3, 4, 5],\n",
    "    'sampling_method': ['uniform']\n",
    "}\n",
    "clf_xgb = GridSearchCV(xgb, param_grid = param_grid, cv = 4, verbose = True, n_jobs = -1)\n",
    "best_clf_xgb = clf_xgb.fit(X,y)\n",
    "clf_performance(best_clf_xgb,'XGB')"
   ]
  },
  {
   "cell_type": "markdown",
   "metadata": {},
   "source": [
    "\n",
    "### Tuned Model Performance\n",
    "\n",
    "| Model                | Accuracy | Accuracy_tuned |  Accuracy Kaggle test_set | \n",
    "|----------------------|----------|----------------|-----------|\n",
    "| Logistic Regression  | 80.2     | 80.5           | 74.9    |\n",
    "| Random Forest subset | 76.7      | 57.6           | 77.8    |\n",
    "| Random Forest all    | 80.6     | 83.2           | 76.315    |\n",
    "| SVM                  | 61.6     | 72.6           | 67.0    |\n",
    "| XGBoost              | 78.9      | 84.1           | 76.1    |"
   ]
  },
  {
   "cell_type": "code",
   "execution_count": 23,
   "metadata": {},
   "outputs": [],
   "source": [
    "# Save predictions from the models\n",
    "# Logistic Regression\n",
    "predictions_lr = best_clf_lr.predict(X_test)\n",
    "output = pd.DataFrame({'PassengerId': test_data.PassengerId, 'Survived': predictions_lr})\n",
    "output.to_csv('submissions/logistic_regression.csv', index=False)\n",
    "\n",
    "# Random Forest\n",
    "predictions_rf = best_clf_rf.predict(X_test)\n",
    "output = pd.DataFrame({'PassengerId': test_data.PassengerId, 'Survived': predictions_rf})\n",
    "output.to_csv('submissions/random_forest_3.csv', index=False)\n",
    "\n",
    "# SVC\n",
    "predictions_svc = best_clf_svc.predict(X_test)\n",
    "output = pd.DataFrame({'PassengerId': test_data.PassengerId, 'Survived': predictions_svc})\n",
    "output.to_csv('submissions/svc.csv', index=False)\n",
    "\n",
    "# XGBoost\n",
    "predictions_xgb = best_clf_xgb.predict(X_test)\n",
    "output = pd.DataFrame({'PassengerId': test_data.PassengerId, 'Survived': predictions_xgb})\n",
    "output.to_csv('submissions/xgboost.csv', index=False)"
   ]
  }
 ],
 "metadata": {
  "kernelspec": {
   "display_name": "kaggle_ML_env",
   "language": "python",
   "name": "kaggle_ml_env"
  },
  "language_info": {
   "codemirror_mode": {
    "name": "ipython",
    "version": 3
   },
   "file_extension": ".py",
   "mimetype": "text/x-python",
   "name": "python",
   "nbconvert_exporter": "python",
   "pygments_lexer": "ipython3",
   "version": "3.11.6"
  }
 },
 "nbformat": 4,
 "nbformat_minor": 2
}
